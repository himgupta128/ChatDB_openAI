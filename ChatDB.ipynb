{
 "cells": [
  {
   "cell_type": "markdown",
   "id": "91977e3b",
   "metadata": {},
   "source": [
    "#  Install required libraries"
   ]
  },
  {
   "cell_type": "code",
   "execution_count": 10,
   "id": "acbb8013",
   "metadata": {},
   "outputs": [
    {
     "name": "stdout",
     "output_type": "stream",
     "text": [
      "Collecting langchain-openai\n",
      "  Downloading langchain_openai-0.0.8-py3-none-any.whl.metadata (2.5 kB)\n",
      "Requirement already satisfied: langchain-core<0.2.0,>=0.1.27 in c:\\users\\himanshu\\anaconda3\\lib\\site-packages (from langchain-openai) (0.1.32)\n",
      "Requirement already satisfied: openai<2.0.0,>=1.10.0 in c:\\users\\himanshu\\anaconda3\\lib\\site-packages (from langchain-openai) (1.12.0)\n",
      "Requirement already satisfied: tiktoken<1,>=0.5.2 in c:\\users\\himanshu\\anaconda3\\lib\\site-packages (from langchain-openai) (0.6.0)\n",
      "Requirement already satisfied: PyYAML>=5.3 in c:\\users\\himanshu\\anaconda3\\lib\\site-packages (from langchain-core<0.2.0,>=0.1.27->langchain-openai) (6.0.1)\n",
      "Requirement already satisfied: anyio<5,>=3 in c:\\users\\himanshu\\anaconda3\\lib\\site-packages (from langchain-core<0.2.0,>=0.1.27->langchain-openai) (4.2.0)\n",
      "Requirement already satisfied: jsonpatch<2.0,>=1.33 in c:\\users\\himanshu\\anaconda3\\lib\\site-packages (from langchain-core<0.2.0,>=0.1.27->langchain-openai) (1.33)\n",
      "Requirement already satisfied: langsmith<0.2.0,>=0.1.0 in c:\\users\\himanshu\\anaconda3\\lib\\site-packages (from langchain-core<0.2.0,>=0.1.27->langchain-openai) (0.1.26)\n",
      "Requirement already satisfied: packaging<24.0,>=23.2 in c:\\users\\himanshu\\anaconda3\\lib\\site-packages (from langchain-core<0.2.0,>=0.1.27->langchain-openai) (23.2)\n",
      "Requirement already satisfied: pydantic<3,>=1 in c:\\users\\himanshu\\anaconda3\\lib\\site-packages (from langchain-core<0.2.0,>=0.1.27->langchain-openai) (2.6.1)\n",
      "Requirement already satisfied: requests<3,>=2 in c:\\users\\himanshu\\anaconda3\\lib\\site-packages (from langchain-core<0.2.0,>=0.1.27->langchain-openai) (2.26.0)\n",
      "Requirement already satisfied: tenacity<9.0.0,>=8.1.0 in c:\\users\\himanshu\\anaconda3\\lib\\site-packages (from langchain-core<0.2.0,>=0.1.27->langchain-openai) (8.2.3)\n",
      "Requirement already satisfied: distro<2,>=1.7.0 in c:\\users\\himanshu\\anaconda3\\lib\\site-packages (from openai<2.0.0,>=1.10.0->langchain-openai) (1.9.0)\n",
      "Requirement already satisfied: httpx<1,>=0.23.0 in c:\\users\\himanshu\\anaconda3\\lib\\site-packages (from openai<2.0.0,>=1.10.0->langchain-openai) (0.26.0)\n",
      "Requirement already satisfied: sniffio in c:\\users\\himanshu\\anaconda3\\lib\\site-packages (from openai<2.0.0,>=1.10.0->langchain-openai) (1.2.0)\n",
      "Requirement already satisfied: tqdm>4 in c:\\users\\himanshu\\anaconda3\\lib\\site-packages (from openai<2.0.0,>=1.10.0->langchain-openai) (4.66.2)\n",
      "Requirement already satisfied: typing-extensions<5,>=4.7 in c:\\users\\himanshu\\anaconda3\\lib\\site-packages (from openai<2.0.0,>=1.10.0->langchain-openai) (4.9.0)\n",
      "Requirement already satisfied: regex>=2022.1.18 in c:\\users\\himanshu\\anaconda3\\lib\\site-packages (from tiktoken<1,>=0.5.2->langchain-openai) (2023.12.25)\n",
      "Requirement already satisfied: idna>=2.8 in c:\\users\\himanshu\\anaconda3\\lib\\site-packages (from anyio<5,>=3->langchain-core<0.2.0,>=0.1.27->langchain-openai) (2.10)\n",
      "Requirement already satisfied: exceptiongroup>=1.0.2 in c:\\users\\himanshu\\anaconda3\\lib\\site-packages (from anyio<5,>=3->langchain-core<0.2.0,>=0.1.27->langchain-openai) (1.2.0)\n",
      "Requirement already satisfied: certifi in c:\\users\\himanshu\\anaconda3\\lib\\site-packages (from httpx<1,>=0.23.0->openai<2.0.0,>=1.10.0->langchain-openai) (2021.10.8)\n",
      "Requirement already satisfied: httpcore==1.* in c:\\users\\himanshu\\anaconda3\\lib\\site-packages (from httpx<1,>=0.23.0->openai<2.0.0,>=1.10.0->langchain-openai) (1.0.2)\n",
      "Requirement already satisfied: h11<0.15,>=0.13 in c:\\users\\himanshu\\anaconda3\\lib\\site-packages (from httpcore==1.*->httpx<1,>=0.23.0->openai<2.0.0,>=1.10.0->langchain-openai) (0.14.0)\n",
      "Requirement already satisfied: jsonpointer>=1.9 in c:\\users\\himanshu\\anaconda3\\lib\\site-packages (from jsonpatch<2.0,>=1.33->langchain-core<0.2.0,>=0.1.27->langchain-openai) (2.4)\n",
      "Requirement already satisfied: orjson<4.0.0,>=3.9.14 in c:\\users\\himanshu\\anaconda3\\lib\\site-packages (from langsmith<0.2.0,>=0.1.0->langchain-core<0.2.0,>=0.1.27->langchain-openai) (3.9.15)\n",
      "Requirement already satisfied: annotated-types>=0.4.0 in c:\\users\\himanshu\\anaconda3\\lib\\site-packages (from pydantic<3,>=1->langchain-core<0.2.0,>=0.1.27->langchain-openai) (0.6.0)\n",
      "Requirement already satisfied: pydantic-core==2.16.2 in c:\\users\\himanshu\\anaconda3\\lib\\site-packages (from pydantic<3,>=1->langchain-core<0.2.0,>=0.1.27->langchain-openai) (2.16.2)\n",
      "Requirement already satisfied: urllib3<1.27,>=1.21.1 in c:\\users\\himanshu\\anaconda3\\lib\\site-packages (from requests<3,>=2->langchain-core<0.2.0,>=0.1.27->langchain-openai) (1.26.18)\n",
      "Requirement already satisfied: charset-normalizer~=2.0.0 in c:\\users\\himanshu\\anaconda3\\lib\\site-packages (from requests<3,>=2->langchain-core<0.2.0,>=0.1.27->langchain-openai) (2.0.8)\n",
      "Requirement already satisfied: colorama in c:\\users\\himanshu\\anaconda3\\lib\\site-packages (from tqdm>4->openai<2.0.0,>=1.10.0->langchain-openai) (0.4.4)\n",
      "Downloading langchain_openai-0.0.8-py3-none-any.whl (32 kB)\n",
      "Installing collected packages: langchain-openai\n",
      "Successfully installed langchain-openai-0.0.8\n",
      "Note: you may need to restart the kernel to use updated packages.\n"
     ]
    },
    {
     "name": "stderr",
     "output_type": "stream",
     "text": [
      "WARNING: Error parsing requirements for typer: [Errno 2] No such file or directory: 'c:\\\\users\\\\himanshu\\\\anaconda3\\\\lib\\\\site-packages\\\\typer-0.3.2.dist-info\\\\METADATA'\n",
      "DEPRECATION: pyodbc 4.0.0-unsupported has a non-standard version number. pip 24.0 will enforce this behaviour change. A possible replacement is to upgrade to a newer version of pyodbc or contact the author to suggest that they release a version with a conforming version number. Discussion can be found at https://github.com/pypa/pip/issues/12063\n",
      "\n",
      "[notice] A new release of pip is available: 21.3.1 -> 24.0\n",
      "[notice] To update, run: python.exe -m pip install --upgrade pip\n"
     ]
    }
   ],
   "source": [
    "pip install -U langchain-openai"
   ]
  },
  {
   "cell_type": "code",
   "execution_count": 27,
   "id": "d6467f7a",
   "metadata": {},
   "outputs": [
    {
     "name": "stdout",
     "output_type": "stream",
     "text": [
      "Collecting google-cloud-storageNote: you may need to restart the kernel to use updated packages.\n",
      "  Downloading google_cloud_storage-2.15.0-py2.py3-none-any.whl.metadata (6.1 kB)\n",
      "Requirement already satisfied: google-auth<3.0dev,>=2.26.1 in c:\\users\\himanshu\\anaconda3\\lib\\site-packages (from google-cloud-storage) (2.28.2)\n",
      "Requirement already satisfied: google-api-core<3.0.0dev,>=2.15.0 in c:\\users\\himanshu\\anaconda3\\lib\\site-packages (from google-cloud-storage) (2.17.1)\n",
      "Requirement already satisfied: google-cloud-core<3.0dev,>=2.3.0 in c:\\users\\himanshu\\anaconda3\\lib\\site-packages (from google-cloud-storage) (2.4.1)\n",
      "Requirement already satisfied: google-resumable-media>=2.6.0 in c:\\users\\himanshu\\anaconda3\\lib\\site-packages (from google-cloud-storage) (2.7.0)\n",
      "Requirement already satisfied: requests<3.0.0dev,>=2.18.0 in c:\\users\\himanshu\\anaconda3\\lib\\site-packages (from google-cloud-storage) (2.26.0)\n",
      "Requirement already satisfied: google-crc32c<2.0dev,>=1.0 in c:\\users\\himanshu\\anaconda3\\lib\\site-packages (from google-cloud-storage) (1.5.0)\n",
      "Requirement already satisfied: googleapis-common-protos<2.0.dev0,>=1.56.2 in c:\\users\\himanshu\\anaconda3\\lib\\site-packages (from google-api-core<3.0.0dev,>=2.15.0->google-cloud-storage) (1.63.0)\n",
      "\n",
      "Requirement already satisfied: protobuf!=3.20.0,!=3.20.1,!=4.21.0,!=4.21.1,!=4.21.2,!=4.21.3,!=4.21.4,!=4.21.5,<5.0.0.dev0,>=3.19.5 in c:\\users\\himanshu\\anaconda3\\lib\\site-packages (from google-api-core<3.0.0dev,>=2.15.0->google-cloud-storage) (4.25.3)\n",
      "Requirement already satisfied: cachetools<6.0,>=2.0.0 in c:\\users\\himanshu\\anaconda3\\lib\\site-packages (from google-auth<3.0dev,>=2.26.1->google-cloud-storage) (4.2.4)\n",
      "Requirement already satisfied: pyasn1-modules>=0.2.1 in c:\\users\\himanshu\\anaconda3\\lib\\site-packages (from google-auth<3.0dev,>=2.26.1->google-cloud-storage) (0.2.8)\n",
      "Requirement already satisfied: rsa<5,>=3.1.4 in c:\\users\\himanshu\\anaconda3\\lib\\site-packages (from google-auth<3.0dev,>=2.26.1->google-cloud-storage) (4.8)\n",
      "Requirement already satisfied: urllib3<1.27,>=1.21.1 in c:\\users\\himanshu\\anaconda3\\lib\\site-packages (from requests<3.0.0dev,>=2.18.0->google-cloud-storage) (1.26.18)\n",
      "Requirement already satisfied: certifi>=2017.4.17 in c:\\users\\himanshu\\anaconda3\\lib\\site-packages (from requests<3.0.0dev,>=2.18.0->google-cloud-storage) (2021.10.8)\n",
      "Requirement already satisfied: charset-normalizer~=2.0.0 in c:\\users\\himanshu\\anaconda3\\lib\\site-packages (from requests<3.0.0dev,>=2.18.0->google-cloud-storage) (2.0.8)\n",
      "Requirement already satisfied: idna<4,>=2.5 in c:\\users\\himanshu\\anaconda3\\lib\\site-packages (from requests<3.0.0dev,>=2.18.0->google-cloud-storage) (2.10)\n",
      "Requirement already satisfied: pyasn1<0.5.0,>=0.4.6 in c:\\users\\himanshu\\anaconda3\\lib\\site-packages (from pyasn1-modules>=0.2.1->google-auth<3.0dev,>=2.26.1->google-cloud-storage) (0.4.8)\n",
      "Downloading google_cloud_storage-2.15.0-py2.py3-none-any.whl (123 kB)\n"
     ]
    },
    {
     "name": "stderr",
     "output_type": "stream",
     "text": [
      "WARNING: Error parsing requirements for typer: [Errno 2] No such file or directory: 'c:\\\\users\\\\himanshu\\\\anaconda3\\\\lib\\\\site-packages\\\\typer-0.3.2.dist-info\\\\METADATA'\n",
      "DEPRECATION: pyodbc 4.0.0-unsupported has a non-standard version number. pip 24.0 will enforce this behaviour change. A possible replacement is to upgrade to a newer version of pyodbc or contact the author to suggest that they release a version with a conforming version number. Discussion can be found at https://github.com/pypa/pip/issues/12063\n",
      "\n",
      "[notice] A new release of pip is available: 21.3.1 -> 24.0\n",
      "[notice] To update, run: python.exe -m pip install --upgrade pip\n"
     ]
    },
    {
     "name": "stdout",
     "output_type": "stream",
     "text": [
      "   -------------------------------------- 123.5/123.5 kB 258.6 kB/s eta 0:00:00\n",
      "Installing collected packages: google-cloud-storage\n",
      "Successfully installed google-cloud-storage-2.15.0\n"
     ]
    }
   ],
   "source": [
    "pip install google-cloud-storage"
   ]
  },
  {
   "cell_type": "code",
   "execution_count": null,
   "id": "dda601ea",
   "metadata": {},
   "outputs": [],
   "source": [
    "pip install db-dtypes\n",
    "pip install google-cloud-bigquery-storage"
   ]
  },
  {
   "cell_type": "code",
   "execution_count": 1,
   "id": "cfb9aee3",
   "metadata": {},
   "outputs": [
    {
     "name": "stderr",
     "output_type": "stream",
     "text": [
      "C:\\Users\\Himanshu\\anaconda3\\lib\\site-packages\\numpy\\_distributor_init.py:30: UserWarning: loaded more than 1 DLL from .libs:\n",
      "C:\\Users\\Himanshu\\anaconda3\\lib\\site-packages\\numpy\\.libs\\libopenblas.EL2C6PLE4ZYW3ECEVIV3OXXGRN2NRFM2.gfortran-win_amd64.dll\n",
      "C:\\Users\\Himanshu\\anaconda3\\lib\\site-packages\\numpy\\.libs\\libopenblas.XWYDX2IKJW2NMTWSFYNGFUWKQU3LYTCZ.gfortran-win_amd64.dll\n",
      "C:\\Users\\Himanshu\\anaconda3\\lib\\site-packages\\numpy\\.libs\\libopenblas64__v0.3.21-gcc_10_3_0.dll\n",
      "  warnings.warn(\"loaded more than 1 DLL from .libs:\"\n"
     ]
    }
   ],
   "source": [
    "from google.cloud import bigquery\n",
    "from sqlalchemy import *\n",
    "from sqlalchemy.engine import create_engine\n",
    "from sqlalchemy.schema import *\n",
    "import os\n"
   ]
  },
  {
   "cell_type": "markdown",
   "id": "9de0fd7b",
   "metadata": {},
   "source": [
    "# Sample code for connection with bigquery and retreiving data"
   ]
  },
  {
   "cell_type": "code",
   "execution_count": 14,
   "id": "945acf02",
   "metadata": {},
   "outputs": [],
   "source": [
    "import os \n",
    "os.environ['GOOGLE_APPLICATION_CREDENTIALS'] = 'C:/Users/Himanshu/Desktop/Autogen/chatdb-project-54de4105bfb0_old.json'"
   ]
  },
  {
   "cell_type": "code",
   "execution_count": 15,
   "id": "ff7d9ac1",
   "metadata": {},
   "outputs": [],
   "source": [
    "from google.cloud import bigquery\n",
    "bigquery_client = bigquery.Client()"
   ]
  },
  {
   "cell_type": "code",
   "execution_count": 16,
   "id": "87bd437e",
   "metadata": {},
   "outputs": [
    {
     "data": {
      "text/html": [
       "<div>\n",
       "<style scoped>\n",
       "    .dataframe tbody tr th:only-of-type {\n",
       "        vertical-align: middle;\n",
       "    }\n",
       "\n",
       "    .dataframe tbody tr th {\n",
       "        vertical-align: top;\n",
       "    }\n",
       "\n",
       "    .dataframe thead th {\n",
       "        text-align: right;\n",
       "    }\n",
       "</style>\n",
       "<table border=\"1\" class=\"dataframe\">\n",
       "  <thead>\n",
       "    <tr style=\"text-align: right;\">\n",
       "      <th></th>\n",
       "      <th>date</th>\n",
       "      <th>airline</th>\n",
       "      <th>airline_code</th>\n",
       "      <th>departure_airport</th>\n",
       "      <th>departure_state</th>\n",
       "      <th>departure_lat</th>\n",
       "      <th>departure_lon</th>\n",
       "      <th>arrival_airport</th>\n",
       "      <th>arrival_state</th>\n",
       "      <th>arrival_lat</th>\n",
       "      <th>arrival_lon</th>\n",
       "      <th>departure_schedule</th>\n",
       "      <th>departure_actual</th>\n",
       "      <th>departure_delay</th>\n",
       "      <th>arrival_schedule</th>\n",
       "      <th>arrival_actual</th>\n",
       "      <th>arrival_delay</th>\n",
       "    </tr>\n",
       "  </thead>\n",
       "  <tbody>\n",
       "    <tr>\n",
       "      <th>0</th>\n",
       "      <td>2006-08-26</td>\n",
       "      <td>DL</td>\n",
       "      <td>19790</td>\n",
       "      <td>LAX</td>\n",
       "      <td>CA</td>\n",
       "      <td>33.94</td>\n",
       "      <td>-118.4</td>\n",
       "      <td>LGA</td>\n",
       "      <td>NY</td>\n",
       "      <td>40.77</td>\n",
       "      <td>-73.87</td>\n",
       "      <td>1235</td>\n",
       "      <td>1325</td>\n",
       "      <td>50</td>\n",
       "      <td>2105</td>\n",
       "      <td>2138</td>\n",
       "      <td>33</td>\n",
       "    </tr>\n",
       "    <tr>\n",
       "      <th>1</th>\n",
       "      <td>2006-08-05</td>\n",
       "      <td>DL</td>\n",
       "      <td>19790</td>\n",
       "      <td>LAX</td>\n",
       "      <td>CA</td>\n",
       "      <td>33.94</td>\n",
       "      <td>-118.4</td>\n",
       "      <td>LGA</td>\n",
       "      <td>NY</td>\n",
       "      <td>40.77</td>\n",
       "      <td>-73.87</td>\n",
       "      <td>1235</td>\n",
       "      <td>1254</td>\n",
       "      <td>19</td>\n",
       "      <td>2105</td>\n",
       "      <td>2059</td>\n",
       "      <td>-6</td>\n",
       "    </tr>\n",
       "    <tr>\n",
       "      <th>2</th>\n",
       "      <td>2006-11-25</td>\n",
       "      <td>DL</td>\n",
       "      <td>19790</td>\n",
       "      <td>LAX</td>\n",
       "      <td>CA</td>\n",
       "      <td>33.94</td>\n",
       "      <td>-118.4</td>\n",
       "      <td>LGA</td>\n",
       "      <td>NY</td>\n",
       "      <td>40.77</td>\n",
       "      <td>-73.87</td>\n",
       "      <td>1235</td>\n",
       "      <td>1305</td>\n",
       "      <td>30</td>\n",
       "      <td>2105</td>\n",
       "      <td>2107</td>\n",
       "      <td>2</td>\n",
       "    </tr>\n",
       "    <tr>\n",
       "      <th>3</th>\n",
       "      <td>2006-07-22</td>\n",
       "      <td>DL</td>\n",
       "      <td>19790</td>\n",
       "      <td>LAX</td>\n",
       "      <td>CA</td>\n",
       "      <td>33.94</td>\n",
       "      <td>-118.4</td>\n",
       "      <td>LGA</td>\n",
       "      <td>NY</td>\n",
       "      <td>40.77</td>\n",
       "      <td>-73.87</td>\n",
       "      <td>1235</td>\n",
       "      <td>1418</td>\n",
       "      <td>103</td>\n",
       "      <td>2105</td>\n",
       "      <td>2253</td>\n",
       "      <td>108</td>\n",
       "    </tr>\n",
       "    <tr>\n",
       "      <th>4</th>\n",
       "      <td>2006-12-23</td>\n",
       "      <td>DL</td>\n",
       "      <td>19790</td>\n",
       "      <td>LAX</td>\n",
       "      <td>CA</td>\n",
       "      <td>33.94</td>\n",
       "      <td>-118.4</td>\n",
       "      <td>LGA</td>\n",
       "      <td>NY</td>\n",
       "      <td>40.77</td>\n",
       "      <td>-73.87</td>\n",
       "      <td>1235</td>\n",
       "      <td>1320</td>\n",
       "      <td>45</td>\n",
       "      <td>2105</td>\n",
       "      <td>2123</td>\n",
       "      <td>18</td>\n",
       "    </tr>\n",
       "  </tbody>\n",
       "</table>\n",
       "</div>"
      ],
      "text/plain": [
       "         date airline  airline_code departure_airport departure_state  \\\n",
       "0  2006-08-26      DL         19790               LAX              CA   \n",
       "1  2006-08-05      DL         19790               LAX              CA   \n",
       "2  2006-11-25      DL         19790               LAX              CA   \n",
       "3  2006-07-22      DL         19790               LAX              CA   \n",
       "4  2006-12-23      DL         19790               LAX              CA   \n",
       "\n",
       "   departure_lat  departure_lon arrival_airport arrival_state  arrival_lat  \\\n",
       "0          33.94         -118.4             LGA            NY        40.77   \n",
       "1          33.94         -118.4             LGA            NY        40.77   \n",
       "2          33.94         -118.4             LGA            NY        40.77   \n",
       "3          33.94         -118.4             LGA            NY        40.77   \n",
       "4          33.94         -118.4             LGA            NY        40.77   \n",
       "\n",
       "   arrival_lon  departure_schedule  departure_actual  departure_delay  \\\n",
       "0       -73.87                1235              1325               50   \n",
       "1       -73.87                1235              1254               19   \n",
       "2       -73.87                1235              1305               30   \n",
       "3       -73.87                1235              1418              103   \n",
       "4       -73.87                1235              1320               45   \n",
       "\n",
       "   arrival_schedule  arrival_actual  arrival_delay  \n",
       "0              2105            2138             33  \n",
       "1              2105            2059             -6  \n",
       "2              2105            2107              2  \n",
       "3              2105            2253            108  \n",
       "4              2105            2123             18  "
      ]
     },
     "execution_count": 16,
     "metadata": {},
     "output_type": "execute_result"
    }
   ],
   "source": [
    "QUERY = \"\"\"\n",
    "SELECT * FROM `chatdb-project.Dataset1.flights` LIMIT 10\n",
    "  \"\"\"\n",
    "#Run the query and write result to a pandas data frame\n",
    "Query_Results = bigquery_client.query(QUERY)\n",
    "df = Query_Results.to_dataframe()\n",
    "#View top few rows of result\n",
    "df.head()"
   ]
  },
  {
   "cell_type": "markdown",
   "id": "29bdcdc9",
   "metadata": {},
   "source": [
    "# ChatDB model with bigquery connection"
   ]
  },
  {
   "cell_type": "code",
   "execution_count": 3,
   "id": "59efab9b",
   "metadata": {},
   "outputs": [],
   "source": [
    "from langchain.agents import create_sql_agent\n",
    "from langchain.agents.agent_toolkits import SQLDatabaseToolkit\n",
    "from langchain.sql_database import SQLDatabase\n",
    "from langchain.agents import AgentExecutor\n",
    "from langchain_openai import OpenAI"
   ]
  },
  {
   "cell_type": "code",
   "execution_count": 4,
   "id": "5c26d70b",
   "metadata": {},
   "outputs": [
    {
     "name": "stdout",
     "output_type": "stream",
     "text": [
      "bigquery://chatdb-project/Dataset1?credentials_path=C:/Users/Himanshu/Desktop/Autogen/chatdb-project-54de4105bfb0_old.json\n"
     ]
    }
   ],
   "source": [
    "service_account_file = \"C:/Users/Himanshu/Desktop/Autogen/chatdb-project-54de4105bfb0_old.json\" # Change to where your service account key file is located\n",
    "project = \"chatdb-project\"\n",
    "dataset = \"Dataset1\"\n",
    "table = \"flights\"\n",
    "sqlalchemy_url = f'bigquery://{project}/{dataset}?credentials_path={service_account_file}'\n",
    "\n",
    "print(sqlalchemy_url)"
   ]
  },
  {
   "cell_type": "code",
   "execution_count": 5,
   "id": "540b08b2",
   "metadata": {},
   "outputs": [],
   "source": [
    "os.environ[\"OPENAI_API_KEY\"] = \"sk-*******\"" 
   ]
  },
  {
   "cell_type": "code",
   "execution_count": 6,
   "id": "07cedee1",
   "metadata": {},
   "outputs": [],
   "source": [
    "from langchain.chat_models import ChatOpenAI"
   ]
  },
  {
   "cell_type": "code",
   "execution_count": 7,
   "id": "7eb63165",
   "metadata": {},
   "outputs": [
    {
     "name": "stdout",
     "output_type": "stream",
     "text": [
      "db=<langchain_community.utilities.sql_database.SQLDatabase object at 0x000001DBB70D0700> llm=ChatOpenAI(client=<openai.resources.chat.completions.Completions object at 0x000001DBB70AE310>, async_client=<openai.resources.chat.completions.AsyncCompletions object at 0x000001DBB70C3A60>, model_name='gpt-3.5-turbo-0613', temperature=0.0, openai_api_key='sk-******', openai_proxy='', max_tokens=1000)\n"
     ]
    },
    {
     "name": "stderr",
     "output_type": "stream",
     "text": [
      "C:\\Users\\Himanshu\\anaconda3\\lib\\site-packages\\langchain_core\\_api\\deprecation.py:117: LangChainDeprecationWarning: The class `langchain_community.chat_models.openai.ChatOpenAI` was deprecated in langchain-community 0.0.10 and will be removed in 0.2.0. An updated version of the class exists in the langchain-openai package and should be used instead. To use it run `pip install -U langchain-openai` and import as `from langchain_openai import ChatOpenAI`.\n",
      "  warn_deprecated(\n"
     ]
    }
   ],
   "source": [
    "db = SQLDatabase.from_uri(sqlalchemy_url)\n",
    "#llm = OpenAI(temperature= 0.8,openai_api_key=\"sk-*****\",model_name= \"gpt-3.5-turbo\")\n",
    "llm = ChatOpenAI(temperature=0, model=\"gpt-3.5-turbo-0613\", max_tokens=1000)\n",
    "toolkit = SQLDatabaseToolkit(db=db, llm=llm)\n",
    "print(toolkit)"
   ]
  },
  {
   "cell_type": "code",
   "execution_count": 8,
   "id": "5e0f05c6",
   "metadata": {},
   "outputs": [],
   "source": [
    "agent_executor = create_sql_agent(\n",
    "llm=llm,\n",
    "toolkit=toolkit,\n",
    "verbose=True,\n",
    "top_k=1000,\n",
    ")"
   ]
  },
  {
   "cell_type": "code",
   "execution_count": 9,
   "id": "263d721d",
   "metadata": {
    "scrolled": true
   },
   "outputs": [
    {
     "name": "stderr",
     "output_type": "stream",
     "text": [
      "C:\\Users\\Himanshu\\anaconda3\\lib\\site-packages\\langchain_core\\_api\\deprecation.py:117: LangChainDeprecationWarning: The function `run` was deprecated in LangChain 0.1.0 and will be removed in 0.2.0. Use invoke instead.\n",
      "  warn_deprecated(\n"
     ]
    },
    {
     "name": "stdout",
     "output_type": "stream",
     "text": [
      "\n",
      "\n",
      "\u001b[1m> Entering new SQL Agent Executor chain...\u001b[0m\n",
      "\u001b[32;1m\u001b[1;3mI need to find the number of airlines that departed on a specific date. I should check the schema to see which table contains the information about departures. Then I can write a query to count the number of distinct airlines on that date.\n",
      "Action: sql_db_schema\n",
      "Action Input: departures\u001b[0m\u001b[33;1m\u001b[1;3mError: table_names {'departures'} not found in database\u001b[0m\u001b[32;1m\u001b[1;3mI need to check the list of tables in the database to see if the table \"departures\" exists.\n",
      "Action: sql_db_list_tables\n",
      "Action Input: \u001b[0m\u001b[38;5;200m\u001b[1;3mflights\u001b[0m\u001b[32;1m\u001b[1;3mThe table \"departures\" does not exist. I should check the schema of the \"flights\" table to see if it contains the information about departures.\n",
      "Action: sql_db_schema\n",
      "Action Input: flights\u001b[0m\u001b[33;1m\u001b[1;3m\n",
      "CREATE TABLE `flights` (\n",
      "\t`date` DATE, \n",
      "\t`airline` STRING, \n",
      "\t`airline_code` INT64, \n",
      "\t`departure_airport` STRING, \n",
      "\t`departure_state` STRING, \n",
      "\t`departure_lat` FLOAT64, \n",
      "\t`departure_lon` FLOAT64, \n",
      "\t`arrival_airport` STRING, \n",
      "\t`arrival_state` STRING, \n",
      "\t`arrival_lat` FLOAT64, \n",
      "\t`arrival_lon` FLOAT64, \n",
      "\t`departure_schedule` INT64, \n",
      "\t`departure_actual` INT64, \n",
      "\t`departure_delay` INT64, \n",
      "\t`arrival_schedule` INT64, \n",
      "\t`arrival_actual` INT64, \n",
      "\t`arrival_delay` INT64\n",
      ")\n",
      "\n",
      "/*\n",
      "3 rows from flights table:\n",
      "date\tairline\tairline_code\tdeparture_airport\tdeparture_state\tdeparture_lat\tdeparture_lon\tarrival_airport\tarrival_state\tarrival_lat\tarrival_lon\tdeparture_schedule\tdeparture_actual\tdeparture_delay\tarrival_schedule\tarrival_actual\tarrival_delay\n",
      "2006-08-26\tDL\t19790\tLAX\tCA\t33.94\t-118.4\tLGA\tNY\t40.77\t-73.87\t1235\t1325\t50\t2105\t2138\t33\n",
      "2006-08-05\tDL\t19790\tLAX\tCA\t33.94\t-118.4\tLGA\tNY\t40.77\t-73.87\t1235\t1254\t19\t2105\t2059\t-6\n",
      "2006-11-25\tDL\t19790\tLAX\tCA\t33.94\t-118.4\tLGA\tNY\t40.77\t-73.87\t1235\t1305\t30\t2105\t2107\t2\n",
      "*/\u001b[0m\u001b[32;1m\u001b[1;3mThe \"flights\" table contains the information about departures. I can now write a query to count the number of distinct airlines on a specific date.\n",
      "Action: sql_db_query\n",
      "Action Input: SELECT COUNT(DISTINCT airline) FROM flights WHERE date = '2006-10-14'\u001b[0m\u001b[36;1m\u001b[1;3m[(15,)]\u001b[0m\u001b[32;1m\u001b[1;3mThere were 15 airlines that departed on 2006-10-14.\n",
      "Final Answer: 15\u001b[0m\n",
      "\n",
      "\u001b[1m> Finished chain.\u001b[0m\n"
     ]
    },
    {
     "data": {
      "text/plain": [
       "'15'"
      ]
     },
     "execution_count": 9,
     "metadata": {},
     "output_type": "execute_result"
    }
   ],
   "source": [
    "#agent_executor.run(\"how many columns are present in flights table? \")\n",
    "agent_executor.run(\"how many airlines departed on 2006-10-14? \")\n"
   ]
  },
  {
   "cell_type": "code",
   "execution_count": null,
   "id": "db0ac45b",
   "metadata": {},
   "outputs": [],
   "source": []
  }
 ],
 "metadata": {
  "kernelspec": {
   "display_name": "Python 3",
   "language": "python",
   "name": "python3"
  },
  "language_info": {
   "codemirror_mode": {
    "name": "ipython",
    "version": 3
   },
   "file_extension": ".py",
   "mimetype": "text/x-python",
   "name": "python",
   "nbconvert_exporter": "python",
   "pygments_lexer": "ipython3",
   "version": "3.8.8"
  }
 },
 "nbformat": 4,
 "nbformat_minor": 5
}
